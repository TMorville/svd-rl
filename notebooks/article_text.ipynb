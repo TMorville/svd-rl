{
 "cells": [
  {
   "cell_type": "markdown",
   "metadata": {},
   "source": [
    "Autoreload magic"
   ]
  },
  {
   "cell_type": "code",
   "execution_count": 1,
   "metadata": {},
   "outputs": [],
   "source": [
    "%load_ext autoreload\n",
    "%autoreload 2\n",
    "\n",
    "import warnings\n",
    "\n",
    "warnings.filterwarnings('ignore')"
   ]
  },
  {
   "cell_type": "markdown",
   "metadata": {},
   "source": [
    "Set sys and import data sampler"
   ]
  },
  {
   "cell_type": "code",
   "execution_count": 2,
   "metadata": {},
   "outputs": [],
   "source": [
    "import sys\n",
    "\n",
    "import tensorflow as tf\n",
    "\n",
    "sys.path.append('/Users/tmo/Nodes/bandits/')\n",
    "\n",
    "DATA_PATH = '/Users/tmo/Data/bandits/'\n",
    "\n",
    "from src.sample_jester_data import sample_jester_data\n",
    "from src.run_bandit import plot_model_actions, run_bandit\n",
    "from src.linear_full_posterior_sampling import LinearFullPosteriorSampling\n",
    "from src.neural_linear_sampling import NeuralLinearPosteriorSampling"
   ]
  },
  {
   "cell_type": "markdown",
   "metadata": {},
   "source": [
    "Sample data"
   ]
  },
  {
   "cell_type": "code",
   "execution_count": 3,
   "metadata": {},
   "outputs": [],
   "source": [
    "dataset, opt_rewards, opt_actions, num_actions, context_dim = sample_jester_data(DATA_PATH+'jester/jester_data_40jokes_19181users.npy', \n",
    "                                                                                 num_contexts=2000,\n",
    "                                                                                 pct_zero=0,\n",
    "                                                                                 shuffle_rows=False,\n",
    "                                                                                 shuffle_cols=False)"
   ]
  },
  {
   "cell_type": "code",
   "execution_count": 4,
   "metadata": {},
   "outputs": [
    {
     "data": {
      "text/plain": [
       "array([[ 7.82,  1.12, -8.4 , ...,  4.95,  8.3 , -9.85],\n",
       "       [ 4.71,  7.57,  3.4 , ...,  0.73,  1.12,  3.3 ],\n",
       "       [ 3.93,  2.91, -8.3 , ...,  6.65,  7.28, -3.64],\n",
       "       ...,\n",
       "       [ 7.82,  5.24,  5.78, ..., -9.76,  7.04, -9.08],\n",
       "       [ 6.46, -1.89, -1.12, ...,  6.21,  8.74, -1.89],\n",
       "       [ 8.01, -7.43,  3.69, ...,  7.52,  0.53,  4.13]])"
      ]
     },
     "execution_count": 4,
     "metadata": {},
     "output_type": "execute_result"
    }
   ],
   "source": [
    "dataset"
   ]
  },
  {
   "cell_type": "markdown",
   "metadata": {},
   "source": [
    "Set parameters for the two test models"
   ]
  },
  {
   "cell_type": "code",
   "execution_count": 5,
   "metadata": {},
   "outputs": [
    {
     "name": "stdout",
     "output_type": "stream",
     "text": [
      "\n",
      "WARNING: The TensorFlow contrib module will not be included in TensorFlow 2.0.\n",
      "For more information, please see:\n",
      "  * https://github.com/tensorflow/community/blob/master/rfcs/20180907-contrib-sunset.md\n",
      "  * https://github.com/tensorflow/addons\n",
      "If you depend on functionality not listed there, please file an issue.\n",
      "\n"
     ]
    }
   ],
   "source": [
    "hparams_linear = tf.contrib.training.HParams(num_actions=num_actions, \n",
    "                                             context_dim=context_dim, \n",
    "                                             a0=6,\n",
    "                                             b0=6,\n",
    "                                             lambda_prior=0.25,\n",
    "                                             initial_pulls=2)\n",
    "\n",
    "linear_bandit = LinearFullPosteriorSampling(name='linear_bandit', hparams=hparams_linear)"
   ]
  },
  {
   "cell_type": "code",
   "execution_count": 6,
   "metadata": {},
   "outputs": [
    {
     "name": "stdout",
     "output_type": "stream",
     "text": [
      "WARNING:tensorflow:From /usr/local/anaconda3/envs/tf/lib/python3.6/site-packages/tensorflow/python/framework/op_def_library.py:263: colocate_with (from tensorflow.python.framework.ops) is deprecated and will be removed in a future version.\n",
      "Instructions for updating:\n",
      "Colocations handled automatically by placer.\n",
      "WARNING:tensorflow:From /Users/tmo/Nodes/bandits/src/neural_bandit_model.py:83: dense (from tensorflow.python.layers.core) is deprecated and will be removed in a future version.\n",
      "Instructions for updating:\n",
      "Use keras.layers.dense instead.\n",
      "WARNING:tensorflow:From /usr/local/anaconda3/envs/tf/lib/python3.6/site-packages/tensorflow/python/training/learning_rate_decay_v2.py:511: div (from tensorflow.python.ops.math_ops) is deprecated and will be removed in a future version.\n",
      "Instructions for updating:\n",
      "Deprecated in favor of operator or tf.math.divide.\n"
     ]
    }
   ],
   "source": [
    "hparams_nlinear = tf.contrib.training.HParams(num_actions=num_actions,\n",
    "                                                context_dim=context_dim,\n",
    "                                                init_scale=0.3,\n",
    "                                                activation=tf.nn.relu,\n",
    "                                                layer_sizes=[50],\n",
    "                                                batch_size=512,\n",
    "                                                activate_decay=True,\n",
    "                                                initial_lr=0.1,\n",
    "                                                max_grad_norm=5.0,\n",
    "                                                show_training=False,\n",
    "                                                freq_summary=1000,\n",
    "                                                buffer_s=-1,\n",
    "                                                initial_pulls=2,\n",
    "                                                reset_lr=True,\n",
    "                                                lr_decay_rate=0.5,\n",
    "                                                training_freq=1,\n",
    "                                                training_freq_network=50,\n",
    "                                                training_epochs=100,\n",
    "                                                a0=6,\n",
    "                                                b0=6,\n",
    "                                                lambda_prior=0.25,\n",
    "                                                verbose=False)\n",
    "\n",
    "neural_bandit = NeuralLinearPosteriorSampling('neural_bandit', hparams_nlinear)"
   ]
  },
  {
   "cell_type": "code",
   "execution_count": 7,
   "metadata": {},
   "outputs": [
    {
     "name": "stdout",
     "output_type": "stream",
     "text": [
      "Ran 500 iterations in 8.512924194335938 seconds\n"
     ]
    },
    {
     "data": {
      "image/png": "[encoded data removed]",
      "text/plain": [
       "<Figure size 432x288 with 1 Axes>"
      ]
     },
     "metadata": {
      "needs_background": "light"
     },
     "output_type": "display_data"
    }
   ],
   "source": [
    "neural_bandit = NeuralLinearPosteriorSampling('neural_bandit', hparams_nlinear)\n",
    "\n",
    "oaf, maf, rewards, actions = run_bandit(model=neural_bandit, hparams=hparams_nlinear, num_contexts=500, pct_zero=0.0, plot=True)"
   ]
  },
  {
   "cell_type": "code",
   "execution_count": 11,
   "metadata": {},
   "outputs": [],
   "source": [
    "from collections import Counter"
   ]
  },
  {
   "cell_type": "code",
   "execution_count": 15,
   "metadata": {},
   "outputs": [
    {
     "data": {
      "text/plain": [
       "dict_values([58, 60, 58, 56, 70, 78, 62, 58])"
      ]
     },
     "execution_count": 15,
     "metadata": {},
     "output_type": "execute_result"
    }
   ],
   "source": [
    "Counter(actions).values()"
   ]
  },
  {
   "cell_type": "code",
   "execution_count": 13,
   "metadata": {},
   "outputs": [
    {
     "data": {
      "text/plain": [
       "array([58, 60, 58, 56, 70, 78, 62, 58])"
      ]
     },
     "execution_count": 13,
     "metadata": {},
     "output_type": "execute_result"
    }
   ],
   "source": [
    "maf"
   ]
  },
  {
   "cell_type": "code",
   "execution_count": null,
   "metadata": {},
   "outputs": [],
   "source": [
    "import numpy as np\n",
    "\n",
    "import matplotlib.pyplot as plt"
   ]
  },
  {
   "cell_type": "code",
   "execution_count": null,
   "metadata": {},
   "outputs": [],
   "source": [
    "def grid_search():\n",
    "\n",
    "    zero_range = np.logspace(0.8, 0.99, 10)/10\n",
    "\n",
    "    chi_score = []\n",
    "    reward = []\n",
    "    optimal_choice_frequency = []\n",
    "    model_action_frequency = []\n",
    "    \n",
    "    for i in zero_range:\n",
    "        \n",
    "        neural_bandit = NeuralLinearPosteriorSampling('neural_bandit', hparams_nlinear)\n",
    "        \n",
    "        oaf, maf, mr = run_bandit(model=neural_bandit, hparams=hparams_nlinear, num_contexts=500, pct_zero=i, plot=True)\n",
    "        \n",
    "        optimal_choice_frequency.append(oaf)\n",
    "        model_action_frequency.append(maf)\n",
    "        reward.append(mr)\n",
    "        \n",
    "    fig, ax1 = plt.subplots(1, 1, figsize=(5,5))\n",
    "        \n",
    "    for idx, r in enumerate(reward):\n",
    "        ax1.plot(np.cumsum(r), label = \"{}%\".format(round(zero_range[idx], 2)))\n",
    "        \n",
    "    ax1.legend(loc='center left', bbox_to_anchor=(1, 0.5))\n",
    "        \n",
    "    return optimal_choice_frequency, model_action_frequency, reward"
   ]
  },
  {
   "cell_type": "code",
   "execution_count": null,
   "metadata": {},
   "outputs": [],
   "source": [
    "loaf, lmaf, reward = grid_search()"
   ]
  },
  {
   "cell_type": "code",
   "execution_count": null,
   "metadata": {},
   "outputs": [],
   "source": [
    "from scipy.stats import chisquare"
   ]
  },
  {
   "cell_type": "code",
   "execution_count": null,
   "metadata": {},
   "outputs": [],
   "source": [
    "cs = []\n",
    "\n",
    "for actions in loaf:\n",
    "    cs.append(chisquare(actions[1:], f_exp=oaf[1:])[0])\n",
    "    plot_model_actions(oaf, actions, 500)\n",
    "    print(sum(actions[1:])/500, actions[0]/500)"
   ]
  },
  {
   "cell_type": "code",
   "execution_count": null,
   "metadata": {},
   "outputs": [],
   "source": [
    "plt.plot(cs)"
   ]
  },
  {
   "cell_type": "code",
   "execution_count": null,
   "metadata": {},
   "outputs": [],
   "source": [
    "loaf[9]"
   ]
  },
  {
   "cell_type": "code",
   "execution_count": null,
   "metadata": {},
   "outputs": [],
   "source": []
  },
  {
   "cell_type": "code",
   "execution_count": null,
   "metadata": {},
   "outputs": [],
   "source": []
  }
 ],
 "metadata": {
  "kernelspec": {
   "display_name": "Python 3",
   "language": "python",
   "name": "python3"
  },
  "language_info": {
   "codemirror_mode": {
    "name": "ipython",
    "version": 3
   },
   "file_extension": ".py",
   "mimetype": "text/x-python",
   "name": "python",
   "nbconvert_exporter": "python",
   "pygments_lexer": "ipython3",
   "version": "3.6.7"
  }
 },
 "nbformat": 4,
 "nbformat_minor": 4
}
