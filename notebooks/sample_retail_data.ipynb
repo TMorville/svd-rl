{
 "cells": [
  {
   "cell_type": "code",
   "execution_count": 2,
   "metadata": {},
   "outputs": [
    {
     "name": "stderr",
     "output_type": "stream",
     "text": [
      "/usr/local/anaconda3/envs/tf/lib/python3.6/site-packages/tensorflow/python/framework/dtypes.py:526: FutureWarning: Passing (type, 1) or '1type' as a synonym of type is deprecated; in a future version of numpy, it will be understood as (type, (1,)) / '(1,)type'.\n",
      "  _np_qint8 = np.dtype([(\"qint8\", np.int8, 1)])\n",
      "/usr/local/anaconda3/envs/tf/lib/python3.6/site-packages/tensorflow/python/framework/dtypes.py:527: FutureWarning: Passing (type, 1) or '1type' as a synonym of type is deprecated; in a future version of numpy, it will be understood as (type, (1,)) / '(1,)type'.\n",
      "  _np_quint8 = np.dtype([(\"quint8\", np.uint8, 1)])\n",
      "/usr/local/anaconda3/envs/tf/lib/python3.6/site-packages/tensorflow/python/framework/dtypes.py:528: FutureWarning: Passing (type, 1) or '1type' as a synonym of type is deprecated; in a future version of numpy, it will be understood as (type, (1,)) / '(1,)type'.\n",
      "  _np_qint16 = np.dtype([(\"qint16\", np.int16, 1)])\n",
      "/usr/local/anaconda3/envs/tf/lib/python3.6/site-packages/tensorflow/python/framework/dtypes.py:529: FutureWarning: Passing (type, 1) or '1type' as a synonym of type is deprecated; in a future version of numpy, it will be understood as (type, (1,)) / '(1,)type'.\n",
      "  _np_quint16 = np.dtype([(\"quint16\", np.uint16, 1)])\n",
      "/usr/local/anaconda3/envs/tf/lib/python3.6/site-packages/tensorflow/python/framework/dtypes.py:530: FutureWarning: Passing (type, 1) or '1type' as a synonym of type is deprecated; in a future version of numpy, it will be understood as (type, (1,)) / '(1,)type'.\n",
      "  _np_qint32 = np.dtype([(\"qint32\", np.int32, 1)])\n",
      "/usr/local/anaconda3/envs/tf/lib/python3.6/site-packages/tensorflow/python/framework/dtypes.py:535: FutureWarning: Passing (type, 1) or '1type' as a synonym of type is deprecated; in a future version of numpy, it will be understood as (type, (1,)) / '(1,)type'.\n",
      "  np_resource = np.dtype([(\"resource\", np.ubyte, 1)])\n"
     ]
    }
   ],
   "source": [
    "import tensorflow as tf\n",
    "\n",
    "import numpy as np\n",
    "import pandas as pd\n",
    "\n",
    "def sample_retail_data(file_name, context_dim, num_actions, num_contexts,\n",
    "                       shuffle_rows=True, shuffle_cols=False, cutoff=None):\n",
    "    \"\"\"Samples bandit game from (user, joke) dense subset of Jester dataset.\n",
    "\n",
    "    Args:\n",
    "    file_name: Route of file containing the modified Jester dataset.\n",
    "    context_dim: Context dimension (i.e. vector with some ratings from a user).\n",
    "    num_actions: Number of actions (number of joke ratings to predict).\n",
    "    num_contexts: Number of contexts to sample.\n",
    "    shuffle_rows: If True, rows from original dataset are shuffled.\n",
    "    shuffle_cols: Whether or not context/action jokes are randomly shuffled.\n",
    "\n",
    "    Returns:\n",
    "    dataset: Sampled matrix with rows: (context, rating_1, ..., rating_k).\n",
    "    opt_vals: Vector of deterministic optimal (reward, action) for each context.\n",
    "    \"\"\"\n",
    "\n",
    "    retail_df = pd.read_csv(file_name)\n",
    "\n",
    "\n",
    "    most_visited_matrix = most_visited.pivot_table(index='visitorid', columns='itemid', values='reward').as_matrix()\n",
    "    \n",
    "    dataset = np.nan_to_num(most_visited_matrix)\n",
    "\n",
    "    if shuffle_cols:\n",
    "        dataset = dataset[:, np.random.permutation(dataset.shape[1])]\n",
    "    if shuffle_rows:\n",
    "        np.random.shuffle(dataset)\n",
    "        dataset = dataset[:num_contexts, :]\n",
    "\n",
    "    assert context_dim + num_actions == dataset.shape[1], 'Wrong data dimensions.'\n",
    "\n",
    "    opt_actions = np.argmax(dataset[:, context_dim:], axis=1)\n",
    "    opt_rewards = np.array([dataset[i, context_dim + a]\n",
    "                          for i, a in enumerate(opt_actions)])\n",
    "\n",
    "    return dataset, (opt_rewards, opt_actions)\n"
   ]
  },
  {
   "cell_type": "code",
   "execution_count": null,
   "metadata": {},
   "outputs": [],
   "source": []
  }
 ],
 "metadata": {
  "kernelspec": {
   "display_name": "Python 3",
   "language": "python",
   "name": "python3"
  },
  "language_info": {
   "codemirror_mode": {
    "name": "ipython",
    "version": 3
   },
   "file_extension": ".py",
   "mimetype": "text/x-python",
   "name": "python",
   "nbconvert_exporter": "python",
   "pygments_lexer": "ipython3",
   "version": "3.6.7"
  }
 },
 "nbformat": 4,
 "nbformat_minor": 4
}
