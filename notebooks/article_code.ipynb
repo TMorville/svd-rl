{
 "cells": [
  {
   "cell_type": "code",
   "execution_count": 1,
   "metadata": {},
   "outputs": [],
   "source": [
    "import tensorflow as tf"
   ]
  },
  {
   "cell_type": "code",
   "execution_count": 5,
   "metadata": {},
   "outputs": [
    {
     "name": "stdout",
     "output_type": "stream",
     "text": [
      "tf.Tensor(\n",
      "[[ 0.06551746  0.2678829   0.477528   ... -0.20517333 -0.01147166\n",
      "  -0.504882  ]\n",
      " [ 0.06551746  0.2678829   0.477528   ... -0.20517333 -0.01147166\n",
      "  -0.504882  ]\n",
      " [ 0.06551746  0.2678829   0.477528   ... -0.20517333 -0.01147166\n",
      "  -0.504882  ]\n",
      " ...\n",
      " [ 0.06551746  0.2678829   0.477528   ... -0.20517333 -0.01147166\n",
      "  -0.504882  ]\n",
      " [ 0.06551748  0.26788294  0.47752798 ... -0.2051733  -0.01147167\n",
      "  -0.504882  ]\n",
      " [ 0.06551748  0.26788294  0.47752798 ... -0.2051733  -0.01147167\n",
      "  -0.504882  ]], shape=(32, 32), dtype=float32)\n"
     ]
    }
   ],
   "source": [
    "from tensorflow.keras import layers\n",
    "\n",
    "\n",
    "class Dense(layers.Layer):\n",
    "\n",
    "    def __init__(self, units=32, input_dim=32):\n",
    "        super(Dense, self).__init__()\n",
    "        \n",
    "        init_s = self.hparams[\"init_scale\"]\n",
    "\n",
    "        w_init = tf.random_normal_initializer(-init_s, init_s)\n",
    "        self.w = tf.Variable(initial_value=w_init(shape=(input_dim, units),\n",
    "                                              dtype='float32'),\n",
    "                         trainable=True)\n",
    "        \n",
    "        b_init = tf.zeros_initializer()\n",
    "        self.b = tf.Variable(initial_value=b_init(shape=(units,), dtype='float32'), trainable=True)\n",
    "\n",
    "    def call(self, inputs):\n",
    "        return tf.matmul(inputs, self.w) + self.b\n",
    "\n",
    "x = tf.ones((2, 2))\n",
    "linear_layer = Linear(4, 2)\n",
    "y = linear_layer(x)\n",
    "print(y)"
   ]
  },
  {
   "cell_type": "code",
   "execution_count": null,
   "metadata": {},
   "outputs": [],
   "source": []
  }
 ],
 "metadata": {
  "kernelspec": {
   "display_name": "Python 3",
   "language": "python",
   "name": "python3"
  },
  "language_info": {
   "codemirror_mode": {
    "name": "ipython",
    "version": 3
   },
   "file_extension": ".py",
   "mimetype": "text/x-python",
   "name": "python",
   "nbconvert_exporter": "python",
   "pygments_lexer": "ipython3",
   "version": "3.7.5"
  }
 },
 "nbformat": 4,
 "nbformat_minor": 4
}
